{
 "cells": [
  {
   "cell_type": "code",
   "execution_count": 2,
   "metadata": {},
   "outputs": [
    {
     "name": "stdout",
     "output_type": "stream",
     "text": [
      "10 3.142 (6+10j)\n"
     ]
    }
   ],
   "source": [
    "a = 10\n",
    "b = 3.142\n",
    "c = 6 + 10j\n",
    "\n",
    "print(a, b, c)"
   ]
  },
  {
   "cell_type": "code",
   "execution_count": 3,
   "metadata": {},
   "outputs": [
    {
     "name": "stdout",
     "output_type": "stream",
     "text": [
      "10 3.142 (6+10j)\n"
     ]
    }
   ],
   "source": [
    "print(int(a), float(b), str(c))"
   ]
  },
  {
   "cell_type": "code",
   "execution_count": 4,
   "metadata": {},
   "outputs": [
    {
     "name": "stdout",
     "output_type": "stream",
     "text": [
      "[3, 10.26, 'cherry']\n"
     ]
    }
   ],
   "source": [
    "myList = [3, 10.26, \"cherry\"]\n",
    "print(myList)"
   ]
  },
  {
   "cell_type": "code",
   "execution_count": 5,
   "metadata": {},
   "outputs": [
    {
     "name": "stdout",
     "output_type": "stream",
     "text": [
      "(3, 10.26, 'cherry')\n"
     ]
    }
   ],
   "source": [
    "myTuple = (3, 10.26, \"cherry\")\n",
    "print(myTuple)"
   ]
  },
  {
   "cell_type": "code",
   "execution_count": 6,
   "metadata": {},
   "outputs": [
    {
     "name": "stdout",
     "output_type": "stream",
     "text": [
      "{'brand': 'ford', 'model': 'mustang', 'year': '2022'}\n"
     ]
    }
   ],
   "source": [
    "myDict = {\n",
    "    \"brand\" : \"ford\",\n",
    "    \"model\" : \"mustang\",\n",
    "    \"year\" : \"2022\"\n",
    "}\n",
    "\n",
    "print(myDict)"
   ]
  },
  {
   "cell_type": "code",
   "execution_count": 7,
   "metadata": {},
   "outputs": [
    {
     "name": "stdout",
     "output_type": "stream",
     "text": [
      "{1, 2, 3, 4} {8, 5, 6, 7}\n"
     ]
    }
   ],
   "source": [
    "setOne = {1,2,3,4}\n",
    "setTwo = {5,6,7,8}\n",
    "\n",
    "print(setOne, setTwo)"
   ]
  },
  {
   "cell_type": "code",
   "execution_count": 8,
   "metadata": {
    "scrolled": true
   },
   "outputs": [
    {
     "name": "stdout",
     "output_type": "stream",
     "text": [
      "1\n",
      "150\n",
      "576650390625\n"
     ]
    }
   ],
   "source": [
    "x = 10\n",
    "y = 15\n",
    "\n",
    "print(y // x)\n",
    "print(y * x)\n",
    "print(y ** x)"
   ]
  },
  {
   "cell_type": "code",
   "execution_count": 9,
   "metadata": {},
   "outputs": [
    {
     "name": "stdout",
     "output_type": "stream",
     "text": [
      "False\n"
     ]
    }
   ],
   "source": [
    "print(x == y)"
   ]
  },
  {
   "cell_type": "code",
   "execution_count": 10,
   "metadata": {},
   "outputs": [
    {
     "name": "stdout",
     "output_type": "stream",
     "text": [
      "False\n",
      "False\n",
      "True\n"
     ]
    }
   ],
   "source": [
    "colors = [\"black\", \"white\", \"yellow\"]\n",
    "print(\"red\" in colors)\n",
    "print(\"yellow\" not in colors)\n",
    "print(\"black\" in colors)"
   ]
  },
  {
   "cell_type": "code",
   "execution_count": 11,
   "metadata": {},
   "outputs": [
    {
     "name": "stdout",
     "output_type": "stream",
     "text": [
      "Hello from function\n"
     ]
    }
   ],
   "source": [
    "def my_function():\n",
    "    print(\"Hello from function\")\n",
    "    \n",
    "my_function()"
   ]
  },
  {
   "cell_type": "code",
   "execution_count": 12,
   "metadata": {},
   "outputs": [
    {
     "name": "stdout",
     "output_type": "stream",
     "text": [
      "blue purple\n"
     ]
    }
   ],
   "source": [
    "myList = [\"blue\",\"white\",\"black\",\"grey\",\"green\",\"purple\"]\n",
    "print(myList[0], myList[len(myList) - 1])"
   ]
  },
  {
   "cell_type": "code",
   "execution_count": 13,
   "metadata": {},
   "outputs": [
    {
     "name": "stdout",
     "output_type": "stream",
     "text": [
      "input.txt\n",
      "FILE NAME :  input\n",
      "EXTENSION :  txt\n"
     ]
    }
   ],
   "source": [
    "file_name = input()\n",
    "file_name = file_name.split('.')\n",
    "print(\"FILE NAME : \", file_name[0])\n",
    "print(\"EXTENSION : \", file_name[1])"
   ]
  },
  {
   "cell_type": "code",
   "execution_count": 14,
   "metadata": {},
   "outputs": [
    {
     "name": "stdout",
     "output_type": "stream",
     "text": [
      "Hello from function\n"
     ]
    }
   ],
   "source": [
    "my_function()"
   ]
  },
  {
   "cell_type": "code",
   "execution_count": 15,
   "metadata": {},
   "outputs": [
    {
     "name": "stdout",
     "output_type": "stream",
     "text": [
      "66660\n"
     ]
    }
   ],
   "source": [
    "# function to find a max of three numbers\n",
    "def find_max(x, y, z):\n",
    "    return max(x, y, z)\n",
    "\n",
    "print(find_max(16, 66660, 776))"
   ]
  },
  {
   "cell_type": "code",
   "execution_count": 16,
   "metadata": {},
   "outputs": [
    {
     "name": "stdout",
     "output_type": "stream",
     "text": [
      "10\n"
     ]
    }
   ],
   "source": [
    "# function to sum all the numbers in a list\n",
    "def sum_list(nums):\n",
    "    s = 0\n",
    "    for num in nums:\n",
    "        s += num\n",
    "    return s\n",
    "\n",
    "print(sum_list([1,2,3,4]))"
   ]
  },
  {
   "cell_type": "code",
   "execution_count": 17,
   "metadata": {},
   "outputs": [
    {
     "name": "stdout",
     "output_type": "stream",
     "text": [
      "24\n"
     ]
    }
   ],
   "source": [
    "# function to multiply all the numbers in a list\n",
    "def mul_list(nums):\n",
    "    s = 1\n",
    "    for num in nums:\n",
    "        s *= num\n",
    "    return s\n",
    "\n",
    "print(mul_list([1,2,3,4]))"
   ]
  },
  {
   "cell_type": "code",
   "execution_count": 18,
   "metadata": {},
   "outputs": [
    {
     "name": "stdout",
     "output_type": "stream",
     "text": [
      "!dlrow ,olleH\n"
     ]
    }
   ],
   "source": [
    "# function to reverse a string\n",
    "def reverse_string(string):\n",
    "    return string[::-1]\n",
    "\n",
    "print(reverse_string(\"Hello, world!\"))"
   ]
  },
  {
   "cell_type": "code",
   "execution_count": 19,
   "metadata": {},
   "outputs": [
    {
     "name": "stdout",
     "output_type": "stream",
     "text": [
      "120\n"
     ]
    }
   ],
   "source": [
    "# function to calculate factorial of a number\n",
    "def factorial(num):\n",
    "    fact = 1\n",
    "    for i in range(1, num + 1):\n",
    "        fact *= i\n",
    "    return fact\n",
    "\n",
    "print(factorial(5))"
   ]
  },
  {
   "cell_type": "code",
   "execution_count": 21,
   "metadata": {},
   "outputs": [
    {
     "name": "stdout",
     "output_type": "stream",
     "text": [
      "True\n",
      "False\n"
     ]
    }
   ],
   "source": [
    "# check if a number falls in a given range\n",
    "def check(num, floor, ceil):\n",
    "    if num > floor and num < ceil:\n",
    "        return True\n",
    "    return False\n",
    "\n",
    "print(check(10, 7, 19))\n",
    "print(check(100, 7, 19))"
   ]
  },
  {
   "cell_type": "code",
   "execution_count": 22,
   "metadata": {},
   "outputs": [
    {
     "name": "stdout",
     "output_type": "stream",
     "text": [
      "[2, 4, 6, 8, 10]\n"
     ]
    }
   ],
   "source": [
    "# function to print even numbers from a given list\n",
    "def print_even(nums):\n",
    "    res = []\n",
    "    for num in nums:\n",
    "        if num % 2 == 0:\n",
    "            res.append(num)\n",
    "    return res\n",
    "\n",
    "print(print_even([1,2,3,4,5,6,7,8,9,10]))"
   ]
  },
  {
   "cell_type": "code",
   "execution_count": null,
   "metadata": {},
   "outputs": [],
   "source": []
  }
 ],
 "metadata": {
  "kernelspec": {
   "display_name": "Python 3",
   "language": "python",
   "name": "python3"
  },
  "language_info": {
   "codemirror_mode": {
    "name": "ipython",
    "version": 3
   },
   "file_extension": ".py",
   "mimetype": "text/x-python",
   "name": "python",
   "nbconvert_exporter": "python",
   "pygments_lexer": "ipython3",
   "version": "3.7.6"
  }
 },
 "nbformat": 4,
 "nbformat_minor": 4
}
